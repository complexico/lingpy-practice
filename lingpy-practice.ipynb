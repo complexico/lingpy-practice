{
 "cells": [
  {
   "cell_type": "markdown",
   "metadata": {},
   "source": [
    "# Practice session with the `lingpy` module\n",
    "By *Gede Primahadi W. Rajeg*\n",
    "\n",
    "Created on: 6 August 2024\n",
    "\n",
    "### Overview\n",
    "\n",
    "This is my personal note to learn [`lingpy`](https://github.com/lingpy/lingpy). Use `myenv` (Python 3.9.6) inside my `cldf_project` directory as the Kernel/Python environment that already has cldf-related suit of modules installed.\n",
    "\n",
    "The steps below is adapted from the tutorials in the [`lingpy`](https://github.com/lingpy/lingpy) documentation page (cf. [here for the basic](https://lingpy.org/examples.html) and [here for handling wordlist](https://lingpy.org/tutorial/lingpy.basic.wordlist.html)). I combine them with workflow involving `pandas` to turn the matrix output into more general data frame format that I can later feed into an R workflow."
   ]
  },
  {
   "cell_type": "code",
   "execution_count": 19,
   "metadata": {},
   "outputs": [],
   "source": [
    "# load the lingpy module\n",
    "from lingpy import *\n",
    "\n",
    "# load panda to handle data frame\n",
    "import pandas as pd"
   ]
  },
  {
   "cell_type": "code",
   "execution_count": 20,
   "metadata": {},
   "outputs": [
    {
     "data": {
      "text/html": [
       "<div>\n",
       "<style scoped>\n",
       "    .dataframe tbody tr th:only-of-type {\n",
       "        vertical-align: middle;\n",
       "    }\n",
       "\n",
       "    .dataframe tbody tr th {\n",
       "        vertical-align: top;\n",
       "    }\n",
       "\n",
       "    .dataframe thead th {\n",
       "        text-align: right;\n",
       "    }\n",
       "</style>\n",
       "<table border=\"1\" class=\"dataframe\">\n",
       "  <thead>\n",
       "    <tr style=\"text-align: right;\">\n",
       "      <th></th>\n",
       "      <th>ID</th>\n",
       "      <th>CONCEPT</th>\n",
       "      <th>COUNTERPART</th>\n",
       "      <th>IPA</th>\n",
       "      <th>DOCULECT</th>\n",
       "      <th>COGID</th>\n",
       "    </tr>\n",
       "  </thead>\n",
       "  <tbody>\n",
       "    <tr>\n",
       "      <th>0</th>\n",
       "      <td>1</td>\n",
       "      <td>hand</td>\n",
       "      <td>Hand</td>\n",
       "      <td>hant</td>\n",
       "      <td>German</td>\n",
       "      <td>1</td>\n",
       "    </tr>\n",
       "    <tr>\n",
       "      <th>1</th>\n",
       "      <td>2</td>\n",
       "      <td>hand</td>\n",
       "      <td>hand</td>\n",
       "      <td>hænd</td>\n",
       "      <td>English</td>\n",
       "      <td>1</td>\n",
       "    </tr>\n",
       "    <tr>\n",
       "      <th>2</th>\n",
       "      <td>3</td>\n",
       "      <td>hand</td>\n",
       "      <td>рука</td>\n",
       "      <td>ruka</td>\n",
       "      <td>Russian</td>\n",
       "      <td>2</td>\n",
       "    </tr>\n",
       "    <tr>\n",
       "      <th>3</th>\n",
       "      <td>4</td>\n",
       "      <td>hand</td>\n",
       "      <td>рука</td>\n",
       "      <td>ruka</td>\n",
       "      <td>Ukrainan</td>\n",
       "      <td>2</td>\n",
       "    </tr>\n",
       "    <tr>\n",
       "      <th>4</th>\n",
       "      <td>5</td>\n",
       "      <td>leg</td>\n",
       "      <td>Bein</td>\n",
       "      <td>bain</td>\n",
       "      <td>German</td>\n",
       "      <td>3</td>\n",
       "    </tr>\n",
       "  </tbody>\n",
       "</table>\n",
       "</div>"
      ],
      "text/plain": [
       "   ID CONCEPT COUNTERPART   IPA  DOCULECT  COGID\n",
       "0   1    hand        Hand  hant    German      1\n",
       "1   2    hand        hand  hænd   English      1\n",
       "2   3    hand        рука  ruka   Russian      2\n",
       "3   4    hand        рука  ruka  Ukrainan      2\n",
       "4   5     leg        Bein  bain    German      3"
      ]
     },
     "execution_count": 20,
     "metadata": {},
     "output_type": "execute_result"
    }
   ],
   "source": [
    "# read the test data, namely the Harry Potter data\n",
    "df = pd.read_csv('data/harry_potter.csv', sep = '\\t')\n",
    "\n",
    "# print the first six rows of the data frame\n",
    "df.head()"
   ]
  },
  {
   "cell_type": "markdown",
   "metadata": {},
   "source": [
    "Note that the harry_potter.csv data shown in the tutorial [here](https://lingpy.org/tutorial/lingpy.basic.wordlist.html) is no longer available from the [source code repository](https://github.com/lingpy/lingpy/tree/master) (not sure why). So, I recreated [this data](https://github.com/complexico/lingpy-practice/blob/main/data/harry_potter.csv) manually."
   ]
  },
  {
   "cell_type": "code",
   "execution_count": 21,
   "metadata": {},
   "outputs": [
    {
     "data": {
      "text/html": [
       "<div>\n",
       "<style scoped>\n",
       "    .dataframe tbody tr th:only-of-type {\n",
       "        vertical-align: middle;\n",
       "    }\n",
       "\n",
       "    .dataframe tbody tr th {\n",
       "        vertical-align: top;\n",
       "    }\n",
       "\n",
       "    .dataframe thead th {\n",
       "        text-align: right;\n",
       "    }\n",
       "</style>\n",
       "<table border=\"1\" class=\"dataframe\">\n",
       "  <thead>\n",
       "    <tr style=\"text-align: right;\">\n",
       "      <th></th>\n",
       "      <th>ID</th>\n",
       "      <th>CONCEPT</th>\n",
       "      <th>COUNTERPART</th>\n",
       "      <th>IPA</th>\n",
       "      <th>DOCULECT</th>\n",
       "      <th>COGID</th>\n",
       "    </tr>\n",
       "  </thead>\n",
       "  <tbody>\n",
       "    <tr>\n",
       "      <th>0</th>\n",
       "      <td>1</td>\n",
       "      <td>hand</td>\n",
       "      <td>Hand</td>\n",
       "      <td>hant</td>\n",
       "      <td>German</td>\n",
       "      <td>1</td>\n",
       "    </tr>\n",
       "    <tr>\n",
       "      <th>1</th>\n",
       "      <td>2</td>\n",
       "      <td>hand</td>\n",
       "      <td>hand</td>\n",
       "      <td>hænd</td>\n",
       "      <td>English</td>\n",
       "      <td>1</td>\n",
       "    </tr>\n",
       "    <tr>\n",
       "      <th>2</th>\n",
       "      <td>3</td>\n",
       "      <td>hand</td>\n",
       "      <td>рука</td>\n",
       "      <td>ruka</td>\n",
       "      <td>Russian</td>\n",
       "      <td>2</td>\n",
       "    </tr>\n",
       "    <tr>\n",
       "      <th>3</th>\n",
       "      <td>4</td>\n",
       "      <td>hand</td>\n",
       "      <td>рука</td>\n",
       "      <td>ruka</td>\n",
       "      <td>Ukrainan</td>\n",
       "      <td>2</td>\n",
       "    </tr>\n",
       "  </tbody>\n",
       "</table>\n",
       "</div>"
      ],
      "text/plain": [
       "   ID CONCEPT COUNTERPART   IPA  DOCULECT  COGID\n",
       "0   1    hand        Hand  hant    German      1\n",
       "1   2    hand        hand  hænd   English      1\n",
       "2   3    hand        рука  ruka   Russian      2\n",
       "3   4    hand        рука  ruka  Ukrainan      2"
      ]
     },
     "execution_count": 21,
     "metadata": {},
     "output_type": "execute_result"
    }
   ],
   "source": [
    "# Filter the data frame to illustrate the alignment analysis method\n",
    "\n",
    "hand_df = df[df[\"CONCEPT\"] == \"hand\"]\n",
    "hand_df\n"
   ]
  },
  {
   "cell_type": "code",
   "execution_count": 22,
   "metadata": {},
   "outputs": [
    {
     "data": {
      "text/plain": [
       "['hant', 'hænd', 'ruka', 'ruka']"
      ]
     },
     "execution_count": 22,
     "metadata": {},
     "output_type": "execute_result"
    }
   ],
   "source": [
    "# Get the IPA column from the `hand_df` as input for alignment analysis\n",
    "hand_seqs = hand_df[\"IPA\"].tolist()\n",
    "hand_seqs"
   ]
  },
  {
   "cell_type": "markdown",
   "metadata": {},
   "source": [
    "### Run alignment analysis\n",
    "\n",
    "The reference is [https://lingpy.org/examples.html](https://lingpy.org/examples.html)."
   ]
  },
  {
   "cell_type": "code",
   "execution_count": 23,
   "metadata": {},
   "outputs": [
    {
     "data": {
      "text/plain": [
       "<lingpy.align.multiple.Multiple at 0x10ff0a520>"
      ]
     },
     "execution_count": 23,
     "metadata": {},
     "output_type": "execute_result"
    }
   ],
   "source": [
    "\n",
    "## First, create an instance of `Multiple` class\n",
    "## The input data is the list/sequence of IPA forms for the concept HAND\n",
    "hand_msa = Multiple(hand_seqs)\n",
    "hand_msa"
   ]
  },
  {
   "cell_type": "code",
   "execution_count": 24,
   "metadata": {},
   "outputs": [
    {
     "name": "stdout",
     "output_type": "stream",
     "text": [
      "h\ta\tn\tt\t-\n",
      "h\tæ\tn\td\t-\n",
      "r\tu\tk\t-\ta\n",
      "r\tu\tk\t-\ta\n"
     ]
    }
   ],
   "source": [
    "## Second, run the alignment analysis\n",
    "### Using the progressive alignment (source: https://lingpy.org/examples.html)\n",
    "hand_msa.prog_align()\n",
    "\n",
    "### print the output\n",
    "print(hand_msa)"
   ]
  },
  {
   "cell_type": "code",
   "execution_count": 33,
   "metadata": {},
   "outputs": [
    {
     "name": "stdout",
     "output_type": "stream",
     "text": [
      "h\ta\tn\tt\t-\n",
      "h\tæ\tn\td\t-\n",
      "r\tu\tk\t-\ta\n",
      "r\tu\tk\t-\ta\n"
     ]
    }
   ],
   "source": [
    "### Using the library alignment\n",
    "hand_msa_lib = hand_msa\n",
    "hand_msa_lib.lib_align()\n",
    "print(hand_msa_lib)"
   ]
  },
  {
   "cell_type": "markdown",
   "metadata": {},
   "source": [
    "Note that the output of `print(hand_msa)` (or `print(hand_msa_lib)`) above is derived from a Python matrix inside the `hand_msa` object.\n",
    "\n",
    "The following code shows how to get the attributes inside a Python object like `hand_msa`."
   ]
  },
  {
   "cell_type": "code",
   "execution_count": 27,
   "metadata": {},
   "outputs": [],
   "source": [
    "## get the number of attribute in `hand_msa` object\n",
    "attr_len = len(dir(hand_msa))\n",
    "attr_len\n",
    "\n",
    "## get the list of attribute in `hand_msa` object\n",
    "hand_msa_attr = dir(hand_msa)"
   ]
  },
  {
   "cell_type": "markdown",
   "metadata": {},
   "source": [
    "There are 87 attributes in the `hand_msa` object. The alignment output is in the `alm_matrix` attribute while the tokenised results are in the `tokens` attribute.\n",
    "\n",
    "The following code shows how to retrieve these attributes and their contents."
   ]
  },
  {
   "cell_type": "code",
   "execution_count": 29,
   "metadata": {},
   "outputs": [
    {
     "data": {
      "text/plain": [
       "[['h', 'a', 'n', 't'],\n",
       " ['h', 'æ', 'n', 'd'],\n",
       " ['r', 'u', 'k', 'a'],\n",
       " ['r', 'u', 'k', 'a']]"
      ]
     },
     "execution_count": 29,
     "metadata": {},
     "output_type": "execute_result"
    }
   ],
   "source": [
    "## retrieve the contents of the `tokens`, which is in the form of a Python matrix\n",
    "getattr(hand_msa, \"tokens\")"
   ]
  },
  {
   "cell_type": "code",
   "execution_count": 30,
   "metadata": {},
   "outputs": [
    {
     "data": {
      "text/plain": [
       "[['h', 'a', 'n', 't', '-'],\n",
       " ['h', 'æ', 'n', 'd', '-'],\n",
       " ['r', 'u', 'k', '-', 'a'],\n",
       " ['r', 'u', 'k', '-', 'a']]"
      ]
     },
     "execution_count": 30,
     "metadata": {},
     "output_type": "execute_result"
    }
   ],
   "source": [
    "## retrieve the contents of the `alm_matrix`, which is also in the form of a Python matrix\n",
    "getattr(hand_msa, \"alm_matrix\")"
   ]
  },
  {
   "cell_type": "markdown",
   "metadata": {},
   "source": [
    "### Save the alignment matrix into a data frame\n",
    "\n",
    "We can use `pandas` to turn the matrix of alignment into data frame for ease of processing. See the following code."
   ]
  },
  {
   "cell_type": "code",
   "execution_count": 31,
   "metadata": {},
   "outputs": [
    {
     "data": {
      "text/html": [
       "<div>\n",
       "<style scoped>\n",
       "    .dataframe tbody tr th:only-of-type {\n",
       "        vertical-align: middle;\n",
       "    }\n",
       "\n",
       "    .dataframe tbody tr th {\n",
       "        vertical-align: top;\n",
       "    }\n",
       "\n",
       "    .dataframe thead th {\n",
       "        text-align: right;\n",
       "    }\n",
       "</style>\n",
       "<table border=\"1\" class=\"dataframe\">\n",
       "  <thead>\n",
       "    <tr style=\"text-align: right;\">\n",
       "      <th></th>\n",
       "      <th>0</th>\n",
       "      <th>1</th>\n",
       "      <th>2</th>\n",
       "      <th>3</th>\n",
       "      <th>4</th>\n",
       "    </tr>\n",
       "  </thead>\n",
       "  <tbody>\n",
       "    <tr>\n",
       "      <th>0</th>\n",
       "      <td>h</td>\n",
       "      <td>a</td>\n",
       "      <td>n</td>\n",
       "      <td>t</td>\n",
       "      <td>-</td>\n",
       "    </tr>\n",
       "    <tr>\n",
       "      <th>1</th>\n",
       "      <td>h</td>\n",
       "      <td>æ</td>\n",
       "      <td>n</td>\n",
       "      <td>d</td>\n",
       "      <td>-</td>\n",
       "    </tr>\n",
       "    <tr>\n",
       "      <th>2</th>\n",
       "      <td>r</td>\n",
       "      <td>u</td>\n",
       "      <td>k</td>\n",
       "      <td>-</td>\n",
       "      <td>a</td>\n",
       "    </tr>\n",
       "    <tr>\n",
       "      <th>3</th>\n",
       "      <td>r</td>\n",
       "      <td>u</td>\n",
       "      <td>k</td>\n",
       "      <td>-</td>\n",
       "      <td>a</td>\n",
       "    </tr>\n",
       "  </tbody>\n",
       "</table>\n",
       "</div>"
      ],
      "text/plain": [
       "   0  1  2  3  4\n",
       "0  h  a  n  t  -\n",
       "1  h  æ  n  d  -\n",
       "2  r  u  k  -  a\n",
       "3  r  u  k  -  a"
      ]
     },
     "execution_count": 31,
     "metadata": {},
     "output_type": "execute_result"
    }
   ],
   "source": [
    "## turn alignment matrix into pandas data frame\n",
    "hand_alm_mtx = getattr(hand_msa, \"alm_matrix\")\n",
    "hand_alm_df = pd.DataFrame(hand_alm_mtx)\n",
    "hand_alm_df"
   ]
  },
  {
   "cell_type": "code",
   "execution_count": 32,
   "metadata": {},
   "outputs": [],
   "source": [
    "## save the data frame into a tab-separated .csv file\n",
    "hand_alm_df.to_csv(\"data/hand_alm_df.tsv\", index = False, encoding= \"utf-8\", sep = \"\\t\")"
   ]
  },
  {
   "cell_type": "markdown",
   "metadata": {},
   "source": [
    "# Next:\n",
    "\n",
    "Alignment analysis (e.g., in for loop) for each cognate ID"
   ]
  }
 ],
 "metadata": {
  "kernelspec": {
   "display_name": "myenv",
   "language": "python",
   "name": "python3"
  },
  "language_info": {
   "codemirror_mode": {
    "name": "ipython",
    "version": 3
   },
   "file_extension": ".py",
   "mimetype": "text/x-python",
   "name": "python",
   "nbconvert_exporter": "python",
   "pygments_lexer": "ipython3",
   "version": "3.9.6"
  }
 },
 "nbformat": 4,
 "nbformat_minor": 2
}
