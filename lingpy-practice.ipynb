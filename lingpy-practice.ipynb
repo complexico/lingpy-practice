{
 "cells": [
  {
   "cell_type": "markdown",
   "metadata": {},
   "source": [
    "# Practice session with the `lingpy` module\n",
    "By *Gede Primahadi W. Rajeg*\n",
    "\n",
    "Created on: 6 August 2024\n",
    "\n",
    "This is my personal note to learn [`lingpy`](https://github.com/lingpy/lingpy). Use `myenv` (Python 3.9.6) inside my `cldf_project` directory as the Kernel/Python environment that already has cldf-related suit of modules installed.\n",
    "\n",
    "## Practice 1\n",
    "\n",
    "### Overview\n",
    "\n",
    "The steps below is adapted from the tutorials in the [`lingpy`](https://github.com/lingpy/lingpy) documentation page (cf. [here for the basic](https://lingpy.org/examples.html) and [here for handling wordlist](https://lingpy.org/tutorial/lingpy.basic.wordlist.html)). I combine them with workflow involving `pandas` to turn the matrix output into more general data frame format that I can later feed into an R workflow."
   ]
  },
  {
   "cell_type": "code",
   "execution_count": 19,
   "metadata": {},
   "outputs": [],
   "source": [
    "# load the lingpy module\n",
    "from lingpy import *\n",
    "\n",
    "# load panda to handle data frame\n",
    "import pandas as pd"
   ]
  },
  {
   "cell_type": "markdown",
   "metadata": {},
   "source": [
    "### Read in the word list data\n",
    "\n",
    "We use pandas module for this purpose."
   ]
  },
  {
   "cell_type": "code",
   "execution_count": 20,
   "metadata": {},
   "outputs": [
    {
     "data": {
      "text/html": [
       "<div>\n",
       "<style scoped>\n",
       "    .dataframe tbody tr th:only-of-type {\n",
       "        vertical-align: middle;\n",
       "    }\n",
       "\n",
       "    .dataframe tbody tr th {\n",
       "        vertical-align: top;\n",
       "    }\n",
       "\n",
       "    .dataframe thead th {\n",
       "        text-align: right;\n",
       "    }\n",
       "</style>\n",
       "<table border=\"1\" class=\"dataframe\">\n",
       "  <thead>\n",
       "    <tr style=\"text-align: right;\">\n",
       "      <th></th>\n",
       "      <th>ID</th>\n",
       "      <th>CONCEPT</th>\n",
       "      <th>COUNTERPART</th>\n",
       "      <th>IPA</th>\n",
       "      <th>DOCULECT</th>\n",
       "      <th>COGID</th>\n",
       "    </tr>\n",
       "  </thead>\n",
       "  <tbody>\n",
       "    <tr>\n",
       "      <th>0</th>\n",
       "      <td>1</td>\n",
       "      <td>hand</td>\n",
       "      <td>Hand</td>\n",
       "      <td>hant</td>\n",
       "      <td>German</td>\n",
       "      <td>1</td>\n",
       "    </tr>\n",
       "    <tr>\n",
       "      <th>1</th>\n",
       "      <td>2</td>\n",
       "      <td>hand</td>\n",
       "      <td>hand</td>\n",
       "      <td>hænd</td>\n",
       "      <td>English</td>\n",
       "      <td>1</td>\n",
       "    </tr>\n",
       "    <tr>\n",
       "      <th>2</th>\n",
       "      <td>3</td>\n",
       "      <td>hand</td>\n",
       "      <td>рука</td>\n",
       "      <td>ruka</td>\n",
       "      <td>Russian</td>\n",
       "      <td>2</td>\n",
       "    </tr>\n",
       "    <tr>\n",
       "      <th>3</th>\n",
       "      <td>4</td>\n",
       "      <td>hand</td>\n",
       "      <td>рука</td>\n",
       "      <td>ruka</td>\n",
       "      <td>Ukrainan</td>\n",
       "      <td>2</td>\n",
       "    </tr>\n",
       "    <tr>\n",
       "      <th>4</th>\n",
       "      <td>5</td>\n",
       "      <td>leg</td>\n",
       "      <td>Bein</td>\n",
       "      <td>bain</td>\n",
       "      <td>German</td>\n",
       "      <td>3</td>\n",
       "    </tr>\n",
       "  </tbody>\n",
       "</table>\n",
       "</div>"
      ],
      "text/plain": [
       "   ID CONCEPT COUNTERPART   IPA  DOCULECT  COGID\n",
       "0   1    hand        Hand  hant    German      1\n",
       "1   2    hand        hand  hænd   English      1\n",
       "2   3    hand        рука  ruka   Russian      2\n",
       "3   4    hand        рука  ruka  Ukrainan      2\n",
       "4   5     leg        Bein  bain    German      3"
      ]
     },
     "execution_count": 20,
     "metadata": {},
     "output_type": "execute_result"
    }
   ],
   "source": [
    "# read the test data, namely the Harry Potter data\n",
    "df = pd.read_csv('data/harry_potter.csv', sep = '\\t')\n",
    "\n",
    "# print the first six rows of the data frame\n",
    "df.head()"
   ]
  },
  {
   "cell_type": "markdown",
   "metadata": {},
   "source": [
    "Note that the harry_potter.csv data shown in the tutorial [here](https://lingpy.org/tutorial/lingpy.basic.wordlist.html) is no longer available from the [source code repository](https://github.com/lingpy/lingpy/tree/master) (not sure why). So, I recreated [this data](https://github.com/complexico/lingpy-practice/blob/main/data/harry_potter.csv) manually."
   ]
  },
  {
   "cell_type": "code",
   "execution_count": 21,
   "metadata": {},
   "outputs": [
    {
     "data": {
      "text/html": [
       "<div>\n",
       "<style scoped>\n",
       "    .dataframe tbody tr th:only-of-type {\n",
       "        vertical-align: middle;\n",
       "    }\n",
       "\n",
       "    .dataframe tbody tr th {\n",
       "        vertical-align: top;\n",
       "    }\n",
       "\n",
       "    .dataframe thead th {\n",
       "        text-align: right;\n",
       "    }\n",
       "</style>\n",
       "<table border=\"1\" class=\"dataframe\">\n",
       "  <thead>\n",
       "    <tr style=\"text-align: right;\">\n",
       "      <th></th>\n",
       "      <th>ID</th>\n",
       "      <th>CONCEPT</th>\n",
       "      <th>COUNTERPART</th>\n",
       "      <th>IPA</th>\n",
       "      <th>DOCULECT</th>\n",
       "      <th>COGID</th>\n",
       "    </tr>\n",
       "  </thead>\n",
       "  <tbody>\n",
       "    <tr>\n",
       "      <th>0</th>\n",
       "      <td>1</td>\n",
       "      <td>hand</td>\n",
       "      <td>Hand</td>\n",
       "      <td>hant</td>\n",
       "      <td>German</td>\n",
       "      <td>1</td>\n",
       "    </tr>\n",
       "    <tr>\n",
       "      <th>1</th>\n",
       "      <td>2</td>\n",
       "      <td>hand</td>\n",
       "      <td>hand</td>\n",
       "      <td>hænd</td>\n",
       "      <td>English</td>\n",
       "      <td>1</td>\n",
       "    </tr>\n",
       "    <tr>\n",
       "      <th>2</th>\n",
       "      <td>3</td>\n",
       "      <td>hand</td>\n",
       "      <td>рука</td>\n",
       "      <td>ruka</td>\n",
       "      <td>Russian</td>\n",
       "      <td>2</td>\n",
       "    </tr>\n",
       "    <tr>\n",
       "      <th>3</th>\n",
       "      <td>4</td>\n",
       "      <td>hand</td>\n",
       "      <td>рука</td>\n",
       "      <td>ruka</td>\n",
       "      <td>Ukrainan</td>\n",
       "      <td>2</td>\n",
       "    </tr>\n",
       "  </tbody>\n",
       "</table>\n",
       "</div>"
      ],
      "text/plain": [
       "   ID CONCEPT COUNTERPART   IPA  DOCULECT  COGID\n",
       "0   1    hand        Hand  hant    German      1\n",
       "1   2    hand        hand  hænd   English      1\n",
       "2   3    hand        рука  ruka   Russian      2\n",
       "3   4    hand        рука  ruka  Ukrainan      2"
      ]
     },
     "execution_count": 21,
     "metadata": {},
     "output_type": "execute_result"
    }
   ],
   "source": [
    "# Filter the data frame to illustrate the alignment analysis method\n",
    "\n",
    "hand_df = df[df[\"CONCEPT\"] == \"hand\"]\n",
    "hand_df\n"
   ]
  },
  {
   "cell_type": "markdown",
   "metadata": {},
   "source": [
    "We now need to select the column and turn it into a list/sequence needed for the alignment analysis."
   ]
  },
  {
   "cell_type": "code",
   "execution_count": 22,
   "metadata": {},
   "outputs": [
    {
     "data": {
      "text/plain": [
       "['hant', 'hænd', 'ruka', 'ruka']"
      ]
     },
     "execution_count": 22,
     "metadata": {},
     "output_type": "execute_result"
    }
   ],
   "source": [
    "# Get the IPA column from the `hand_df` as input for alignment analysis\n",
    "hand_seqs = hand_df[\"IPA\"].tolist()\n",
    "hand_seqs"
   ]
  },
  {
   "cell_type": "markdown",
   "metadata": {},
   "source": [
    "### Run alignment analysis\n",
    "\n",
    "The reference is [https://lingpy.org/examples.html](https://lingpy.org/examples.html)."
   ]
  },
  {
   "cell_type": "code",
   "execution_count": 23,
   "metadata": {},
   "outputs": [
    {
     "data": {
      "text/plain": [
       "<lingpy.align.multiple.Multiple at 0x10ff0a520>"
      ]
     },
     "execution_count": 23,
     "metadata": {},
     "output_type": "execute_result"
    }
   ],
   "source": [
    "\n",
    "## First, create an instance of `Multiple` class\n",
    "## The input data is the list/sequence of IPA forms for the concept HAND\n",
    "hand_msa = Multiple(hand_seqs)\n",
    "hand_msa"
   ]
  },
  {
   "cell_type": "code",
   "execution_count": 24,
   "metadata": {},
   "outputs": [
    {
     "name": "stdout",
     "output_type": "stream",
     "text": [
      "h\ta\tn\tt\t-\n",
      "h\tæ\tn\td\t-\n",
      "r\tu\tk\t-\ta\n",
      "r\tu\tk\t-\ta\n"
     ]
    }
   ],
   "source": [
    "## Second, run the alignment analysis\n",
    "### Using the progressive alignment (source: https://lingpy.org/examples.html)\n",
    "hand_msa.prog_align()\n",
    "\n",
    "### print the output\n",
    "print(hand_msa)"
   ]
  },
  {
   "cell_type": "code",
   "execution_count": 33,
   "metadata": {},
   "outputs": [
    {
     "name": "stdout",
     "output_type": "stream",
     "text": [
      "h\ta\tn\tt\t-\n",
      "h\tæ\tn\td\t-\n",
      "r\tu\tk\t-\ta\n",
      "r\tu\tk\t-\ta\n"
     ]
    }
   ],
   "source": [
    "### Using the library alignment\n",
    "hand_msa_lib = hand_msa\n",
    "hand_msa_lib.lib_align()\n",
    "print(hand_msa_lib)"
   ]
  },
  {
   "cell_type": "markdown",
   "metadata": {},
   "source": [
    "Note that the output of `print(hand_msa)` (or `print(hand_msa_lib)`) above is derived from a Python matrix inside the `hand_msa` object.\n",
    "\n",
    "The following code shows how to get the attributes inside a Python object like `hand_msa`."
   ]
  },
  {
   "cell_type": "code",
   "execution_count": 27,
   "metadata": {},
   "outputs": [],
   "source": [
    "## get the number of attribute in `hand_msa` object\n",
    "attr_len = len(dir(hand_msa))\n",
    "attr_len\n",
    "\n",
    "## get the list of attribute in `hand_msa` object\n",
    "hand_msa_attr = dir(hand_msa)"
   ]
  },
  {
   "cell_type": "markdown",
   "metadata": {},
   "source": [
    "There are 87 attributes in the `hand_msa` object. The alignment output is in the `alm_matrix` attribute while the tokenised results are in the `tokens` attribute.\n",
    "\n",
    "The following code shows how to retrieve these attributes and their contents."
   ]
  },
  {
   "cell_type": "code",
   "execution_count": 29,
   "metadata": {},
   "outputs": [
    {
     "data": {
      "text/plain": [
       "[['h', 'a', 'n', 't'],\n",
       " ['h', 'æ', 'n', 'd'],\n",
       " ['r', 'u', 'k', 'a'],\n",
       " ['r', 'u', 'k', 'a']]"
      ]
     },
     "execution_count": 29,
     "metadata": {},
     "output_type": "execute_result"
    }
   ],
   "source": [
    "## retrieve the contents of the `tokens`, which is in the form of a Python matrix\n",
    "getattr(hand_msa, \"tokens\")"
   ]
  },
  {
   "cell_type": "code",
   "execution_count": 30,
   "metadata": {},
   "outputs": [
    {
     "data": {
      "text/plain": [
       "[['h', 'a', 'n', 't', '-'],\n",
       " ['h', 'æ', 'n', 'd', '-'],\n",
       " ['r', 'u', 'k', '-', 'a'],\n",
       " ['r', 'u', 'k', '-', 'a']]"
      ]
     },
     "execution_count": 30,
     "metadata": {},
     "output_type": "execute_result"
    }
   ],
   "source": [
    "## retrieve the contents of the `alm_matrix`, which is also in the form of a Python matrix\n",
    "getattr(hand_msa, \"alm_matrix\")"
   ]
  },
  {
   "cell_type": "markdown",
   "metadata": {},
   "source": [
    "### Save the alignment matrix into a data frame\n",
    "\n",
    "We can use `pandas` to turn the matrix of alignment into data frame for ease of processing. See the following code."
   ]
  },
  {
   "cell_type": "code",
   "execution_count": 31,
   "metadata": {},
   "outputs": [
    {
     "data": {
      "text/html": [
       "<div>\n",
       "<style scoped>\n",
       "    .dataframe tbody tr th:only-of-type {\n",
       "        vertical-align: middle;\n",
       "    }\n",
       "\n",
       "    .dataframe tbody tr th {\n",
       "        vertical-align: top;\n",
       "    }\n",
       "\n",
       "    .dataframe thead th {\n",
       "        text-align: right;\n",
       "    }\n",
       "</style>\n",
       "<table border=\"1\" class=\"dataframe\">\n",
       "  <thead>\n",
       "    <tr style=\"text-align: right;\">\n",
       "      <th></th>\n",
       "      <th>0</th>\n",
       "      <th>1</th>\n",
       "      <th>2</th>\n",
       "      <th>3</th>\n",
       "      <th>4</th>\n",
       "    </tr>\n",
       "  </thead>\n",
       "  <tbody>\n",
       "    <tr>\n",
       "      <th>0</th>\n",
       "      <td>h</td>\n",
       "      <td>a</td>\n",
       "      <td>n</td>\n",
       "      <td>t</td>\n",
       "      <td>-</td>\n",
       "    </tr>\n",
       "    <tr>\n",
       "      <th>1</th>\n",
       "      <td>h</td>\n",
       "      <td>æ</td>\n",
       "      <td>n</td>\n",
       "      <td>d</td>\n",
       "      <td>-</td>\n",
       "    </tr>\n",
       "    <tr>\n",
       "      <th>2</th>\n",
       "      <td>r</td>\n",
       "      <td>u</td>\n",
       "      <td>k</td>\n",
       "      <td>-</td>\n",
       "      <td>a</td>\n",
       "    </tr>\n",
       "    <tr>\n",
       "      <th>3</th>\n",
       "      <td>r</td>\n",
       "      <td>u</td>\n",
       "      <td>k</td>\n",
       "      <td>-</td>\n",
       "      <td>a</td>\n",
       "    </tr>\n",
       "  </tbody>\n",
       "</table>\n",
       "</div>"
      ],
      "text/plain": [
       "   0  1  2  3  4\n",
       "0  h  a  n  t  -\n",
       "1  h  æ  n  d  -\n",
       "2  r  u  k  -  a\n",
       "3  r  u  k  -  a"
      ]
     },
     "execution_count": 31,
     "metadata": {},
     "output_type": "execute_result"
    }
   ],
   "source": [
    "## turn alignment matrix into pandas data frame\n",
    "hand_alm_mtx = getattr(hand_msa, \"alm_matrix\")\n",
    "hand_alm_df = pd.DataFrame(hand_alm_mtx)\n",
    "hand_alm_df"
   ]
  },
  {
   "cell_type": "code",
   "execution_count": 32,
   "metadata": {},
   "outputs": [],
   "source": [
    "## save the data frame into a tab-separated .csv file\n",
    "hand_alm_df.to_csv(\"data/hand_alm_df.tsv\", index = False, encoding= \"utf-8\", sep = \"\\t\")"
   ]
  },
  {
   "cell_type": "markdown",
   "metadata": {},
   "source": [
    "#### Next:\n",
    "\n",
    "Alignment analysis (e.g., in for loop) for each cognate ID"
   ]
  },
  {
   "cell_type": "markdown",
   "metadata": {},
   "source": [
    "## Practice 2\n",
    "\n",
    "### Overview\n",
    "\n",
    "For this practice, I will try to follow the tutorial presented [here](https://github.com/shh-dlce/qmss-2017)"
   ]
  },
  {
   "cell_type": "code",
   "execution_count": 34,
   "metadata": {},
   "outputs": [],
   "source": [
    "# Load the lingpy package\n",
    "from lingpy import *"
   ]
  },
  {
   "cell_type": "code",
   "execution_count": 47,
   "metadata": {},
   "outputs": [],
   "source": [
    "# Read the word list with the Wordlist function\n",
    "wl = Wordlist(\"../cldf_project/qmss-2017/LingPy/polynesian.tsv\")\n",
    "wl"
   ]
  },
  {
   "cell_type": "code",
   "execution_count": 52,
   "metadata": {},
   "outputs": [
    {
     "data": {
      "text/html": [
       "<div>\n",
       "<style scoped>\n",
       "    .dataframe tbody tr th:only-of-type {\n",
       "        vertical-align: middle;\n",
       "    }\n",
       "\n",
       "    .dataframe tbody tr th {\n",
       "        vertical-align: top;\n",
       "    }\n",
       "\n",
       "    .dataframe thead th {\n",
       "        text-align: right;\n",
       "    }\n",
       "</style>\n",
       "<table border=\"1\" class=\"dataframe\">\n",
       "  <thead>\n",
       "    <tr style=\"text-align: right;\">\n",
       "      <th></th>\n",
       "      <th>ID</th>\n",
       "      <th>DOCULECT</th>\n",
       "      <th>CONCEPT</th>\n",
       "      <th>GLOTTOCODE</th>\n",
       "      <th>CONCEPTICON_ID</th>\n",
       "      <th>VALUE</th>\n",
       "      <th>FORM</th>\n",
       "      <th>TOKENS</th>\n",
       "      <th>VARIANTS</th>\n",
       "      <th>SOURCE</th>\n",
       "      <th>COGID</th>\n",
       "      <th>LOAN</th>\n",
       "      <th>COGNACY</th>\n",
       "    </tr>\n",
       "  </thead>\n",
       "  <tbody>\n",
       "    <tr>\n",
       "      <th>0</th>\n",
       "      <td>6</td>\n",
       "      <td>NorthMarquesan_38</td>\n",
       "      <td>Eight</td>\n",
       "      <td>nort2845</td>\n",
       "      <td>1705</td>\n",
       "      <td>va'u</td>\n",
       "      <td>va'u</td>\n",
       "      <td>v a ʔ u</td>\n",
       "      <td>NaN</td>\n",
       "      <td>POLLEX</td>\n",
       "      <td>618</td>\n",
       "      <td>False</td>\n",
       "      <td>3</td>\n",
       "    </tr>\n",
       "    <tr>\n",
       "      <th>1</th>\n",
       "      <td>301</td>\n",
       "      <td>Hawaiian_52</td>\n",
       "      <td>Eight</td>\n",
       "      <td>hawa1245</td>\n",
       "      <td>1705</td>\n",
       "      <td>walu</td>\n",
       "      <td>walu</td>\n",
       "      <td>w a l u</td>\n",
       "      <td>NaN</td>\n",
       "      <td>71458</td>\n",
       "      <td>618</td>\n",
       "      <td>False</td>\n",
       "      <td>3</td>\n",
       "    </tr>\n",
       "    <tr>\n",
       "      <th>2</th>\n",
       "      <td>537</td>\n",
       "      <td>Rarotongan_58</td>\n",
       "      <td>Eight</td>\n",
       "      <td>raro1241</td>\n",
       "      <td>1705</td>\n",
       "      <td>varu</td>\n",
       "      <td>varu</td>\n",
       "      <td>v a r u</td>\n",
       "      <td>NaN</td>\n",
       "      <td>POLLEX</td>\n",
       "      <td>618</td>\n",
       "      <td>False</td>\n",
       "      <td>3</td>\n",
       "    </tr>\n",
       "    <tr>\n",
       "      <th>3</th>\n",
       "      <td>843</td>\n",
       "      <td>Maori_85</td>\n",
       "      <td>Eight</td>\n",
       "      <td>maor1246</td>\n",
       "      <td>1705</td>\n",
       "      <td>waru</td>\n",
       "      <td>waru</td>\n",
       "      <td>w a r u</td>\n",
       "      <td>NaN</td>\n",
       "      <td>Biggs-85-2005</td>\n",
       "      <td>618</td>\n",
       "      <td>False</td>\n",
       "      <td>3</td>\n",
       "    </tr>\n",
       "    <tr>\n",
       "      <th>4</th>\n",
       "      <td>1071</td>\n",
       "      <td>Samoan_118</td>\n",
       "      <td>Eight</td>\n",
       "      <td>samo1305</td>\n",
       "      <td>1705</td>\n",
       "      <td>valu</td>\n",
       "      <td>valu</td>\n",
       "      <td>v a l u</td>\n",
       "      <td>NaN</td>\n",
       "      <td>Blust-118-2005</td>\n",
       "      <td>618</td>\n",
       "      <td>False</td>\n",
       "      <td>3</td>\n",
       "    </tr>\n",
       "  </tbody>\n",
       "</table>\n",
       "</div>"
      ],
      "text/plain": [
       "     ID           DOCULECT CONCEPT GLOTTOCODE  CONCEPTICON_ID VALUE  FORM  \\\n",
       "0     6  NorthMarquesan_38   Eight   nort2845            1705  va'u  va'u   \n",
       "1   301        Hawaiian_52   Eight   hawa1245            1705  walu  walu   \n",
       "2   537      Rarotongan_58   Eight   raro1241            1705  varu  varu   \n",
       "3   843           Maori_85   Eight   maor1246            1705  waru  waru   \n",
       "4  1071         Samoan_118   Eight   samo1305            1705  valu  valu   \n",
       "\n",
       "    TOKENS VARIANTS          SOURCE  COGID   LOAN COGNACY  \n",
       "0  v a ʔ u      NaN          POLLEX    618  False       3  \n",
       "1  w a l u      NaN           71458    618  False       3  \n",
       "2  v a r u      NaN          POLLEX    618  False       3  \n",
       "3  w a r u      NaN   Biggs-85-2005    618  False       3  \n",
       "4  v a l u      NaN  Blust-118-2005    618  False       3  "
      ]
     },
     "execution_count": 52,
     "metadata": {},
     "output_type": "execute_result"
    }
   ],
   "source": [
    "# Or as data frame\n",
    "wl_df = pd.read_csv(\"../cldf_project/qmss-2017/LingPy/polynesian.tsv\", sep = \"\\t\")\n",
    "wl_df.head()"
   ]
  },
  {
   "cell_type": "code",
   "execution_count": 65,
   "metadata": {},
   "outputs": [
    {
     "data": {
      "text/html": [
       "<div>\n",
       "<style scoped>\n",
       "    .dataframe tbody tr th:only-of-type {\n",
       "        vertical-align: middle;\n",
       "    }\n",
       "\n",
       "    .dataframe tbody tr th {\n",
       "        vertical-align: top;\n",
       "    }\n",
       "\n",
       "    .dataframe thead th {\n",
       "        text-align: right;\n",
       "    }\n",
       "</style>\n",
       "<table border=\"1\" class=\"dataframe\">\n",
       "  <thead>\n",
       "    <tr style=\"text-align: right;\">\n",
       "      <th></th>\n",
       "      <th>ID</th>\n",
       "      <th>DOCULECT</th>\n",
       "      <th>CONCEPT</th>\n",
       "      <th>GLOTTOCODE</th>\n",
       "      <th>CONCEPTICON_ID</th>\n",
       "    </tr>\n",
       "  </thead>\n",
       "  <tbody>\n",
       "    <tr>\n",
       "      <th>0</th>\n",
       "      <td>6</td>\n",
       "      <td>NorthMarquesan_38</td>\n",
       "      <td>Eight</td>\n",
       "      <td>nort2845</td>\n",
       "      <td>1705</td>\n",
       "    </tr>\n",
       "    <tr>\n",
       "      <th>1</th>\n",
       "      <td>301</td>\n",
       "      <td>Hawaiian_52</td>\n",
       "      <td>Eight</td>\n",
       "      <td>hawa1245</td>\n",
       "      <td>1705</td>\n",
       "    </tr>\n",
       "    <tr>\n",
       "      <th>2</th>\n",
       "      <td>537</td>\n",
       "      <td>Rarotongan_58</td>\n",
       "      <td>Eight</td>\n",
       "      <td>raro1241</td>\n",
       "      <td>1705</td>\n",
       "    </tr>\n",
       "    <tr>\n",
       "      <th>3</th>\n",
       "      <td>843</td>\n",
       "      <td>Maori_85</td>\n",
       "      <td>Eight</td>\n",
       "      <td>maor1246</td>\n",
       "      <td>1705</td>\n",
       "    </tr>\n",
       "    <tr>\n",
       "      <th>4</th>\n",
       "      <td>1071</td>\n",
       "      <td>Samoan_118</td>\n",
       "      <td>Eight</td>\n",
       "      <td>samo1305</td>\n",
       "      <td>1705</td>\n",
       "    </tr>\n",
       "    <tr>\n",
       "      <th>...</th>\n",
       "      <td>...</td>\n",
       "      <td>...</td>\n",
       "      <td>...</td>\n",
       "      <td>...</td>\n",
       "      <td>...</td>\n",
       "    </tr>\n",
       "    <tr>\n",
       "      <th>7546</th>\n",
       "      <td>7029</td>\n",
       "      <td>Mele-Fila_1163</td>\n",
       "      <td>you</td>\n",
       "      <td>mele1250</td>\n",
       "      <td>1213</td>\n",
       "    </tr>\n",
       "    <tr>\n",
       "      <th>7547</th>\n",
       "      <td>7223</td>\n",
       "      <td>Nukuria_1212</td>\n",
       "      <td>you</td>\n",
       "      <td>nuku1259</td>\n",
       "      <td>1213</td>\n",
       "    </tr>\n",
       "    <tr>\n",
       "      <th>7548</th>\n",
       "      <td>7224</td>\n",
       "      <td>Nukuria_1212</td>\n",
       "      <td>you</td>\n",
       "      <td>nuku1259</td>\n",
       "      <td>1213</td>\n",
       "    </tr>\n",
       "    <tr>\n",
       "      <th>7549</th>\n",
       "      <td>7479</td>\n",
       "      <td>Austral_1213</td>\n",
       "      <td>you</td>\n",
       "      <td>aust1304</td>\n",
       "      <td>1213</td>\n",
       "    </tr>\n",
       "    <tr>\n",
       "      <th>7550</th>\n",
       "      <td>7480</td>\n",
       "      <td>Austral_1213</td>\n",
       "      <td>you</td>\n",
       "      <td>aust1304</td>\n",
       "      <td>1213</td>\n",
       "    </tr>\n",
       "  </tbody>\n",
       "</table>\n",
       "<p>7551 rows × 5 columns</p>\n",
       "</div>"
      ],
      "text/plain": [
       "        ID           DOCULECT CONCEPT GLOTTOCODE  CONCEPTICON_ID\n",
       "0        6  NorthMarquesan_38   Eight   nort2845            1705\n",
       "1      301        Hawaiian_52   Eight   hawa1245            1705\n",
       "2      537      Rarotongan_58   Eight   raro1241            1705\n",
       "3      843           Maori_85   Eight   maor1246            1705\n",
       "4     1071         Samoan_118   Eight   samo1305            1705\n",
       "...    ...                ...     ...        ...             ...\n",
       "7546  7029     Mele-Fila_1163     you   mele1250            1213\n",
       "7547  7223       Nukuria_1212     you   nuku1259            1213\n",
       "7548  7224       Nukuria_1212     you   nuku1259            1213\n",
       "7549  7479       Austral_1213     you   aust1304            1213\n",
       "7550  7480       Austral_1213     you   aust1304            1213\n",
       "\n",
       "[7551 rows x 5 columns]"
      ]
     },
     "execution_count": 65,
     "metadata": {},
     "output_type": "execute_result"
    }
   ],
   "source": [
    "# Select few columns\n",
    "wl_df.iloc[:, range(0,5)]"
   ]
  },
  {
   "cell_type": "code",
   "execution_count": 43,
   "metadata": {},
   "outputs": [
    {
     "name": "stdout",
     "output_type": "stream",
     "text": [
      "Wordlist has 31 languages and 210 concepts across 7551 rows.\n"
     ]
    }
   ],
   "source": [
    "# count number of languages, number of rows, number of concepts\n",
    "print(\"Wordlist has {0} languages and {1} concepts across {2} rows.\".format(wl.width, wl.height, len(wl)))"
   ]
  },
  {
   "cell_type": "markdown",
   "metadata": {},
   "source": [
    "### Segmenting IPA/Phonetic entries\n",
    "\n",
    "We use the function `ipa2tokens()`."
   ]
  },
  {
   "cell_type": "code",
   "execution_count": 83,
   "metadata": {},
   "outputs": [
    {
     "data": {
      "text/plain": [
       "'th o x t a'"
      ]
     },
     "execution_count": 83,
     "metadata": {},
     "output_type": "execute_result"
    }
   ],
   "source": [
    "# Prepare the data\n",
    "\n",
    "## creating IPA-transcribed word strings\n",
    "seq1, seq2, seq3, seq4, seq5 = \"th o x t a\", \"thoxta\", \"apfəl\", \"tʰoxtɐ\", \"dɔːtər\"\n",
    "seq1"
   ]
  },
  {
   "cell_type": "markdown",
   "metadata": {},
   "source": [
    "Note that the first string in `seq1` (i.e., \"th o x t a\") is already in the tokenised form with certain orthography (e.g., the `th` is joined/not separated by whitespace [it throws error in join(ipa2.tokens())]). Meanwhile, the other strings are (i) NOT YET tokenised, even though (ii) they are already in IPA. \n",
    "\n",
    "Take home message: it is important to have an IPA-transcribed list and being tokenised so that the tokenisation is correct (e.g., which strings should be joined like `\"th\"` in `\"th o x t a\"`)."
   ]
  },
  {
   "cell_type": "code",
   "execution_count": 84,
   "metadata": {},
   "outputs": [
    {
     "ename": "ValueError",
     "evalue": "Input must not contain spaces",
     "output_type": "error",
     "traceback": [
      "\u001b[0;31m---------------------------------------------------------------------------\u001b[0m",
      "\u001b[0;31mValueError\u001b[0m                                Traceback (most recent call last)",
      "Cell \u001b[0;32mIn[84], line 2\u001b[0m\n\u001b[1;32m      1\u001b[0m \u001b[38;5;66;03m## Use example of the tokenisation by `ipa2tokens()` for the string `\"apfəl\"`\u001b[39;00m\n\u001b[0;32m----> 2\u001b[0m \u001b[38;5;28mprint\u001b[39m(seq1, \u001b[38;5;124m\"\u001b[39m\u001b[38;5;130;01m\\t\u001b[39;00m\u001b[38;5;124m->\u001b[39m\u001b[38;5;130;01m\\t\u001b[39;00m\u001b[38;5;124m\"\u001b[39m, \u001b[38;5;124m'\u001b[39m\u001b[38;5;130;01m\\t\u001b[39;00m\u001b[38;5;124m'\u001b[39m\u001b[38;5;241m.\u001b[39mjoin(\u001b[43mipa2tokens\u001b[49m\u001b[43m(\u001b[49m\u001b[43mseq1\u001b[49m\u001b[43m)\u001b[49m))\n\u001b[1;32m      3\u001b[0m \u001b[38;5;28mprint\u001b[39m(seq2, \u001b[38;5;124m\"\u001b[39m\u001b[38;5;124m  \u001b[39m\u001b[38;5;130;01m\\t\u001b[39;00m\u001b[38;5;124m->\u001b[39m\u001b[38;5;130;01m\\t\u001b[39;00m\u001b[38;5;124m\"\u001b[39m, \u001b[38;5;124m'\u001b[39m\u001b[38;5;130;01m\\t\u001b[39;00m\u001b[38;5;124m'\u001b[39m\u001b[38;5;241m.\u001b[39mjoin(ipa2tokens(seq2)))\n",
      "File \u001b[0;32m~/Documents/cldf_project/myenv/lib/python3.9/site-packages/lingpy/sequence/sound_classes.py:114\u001b[0m, in \u001b[0;36mipa2tokens\u001b[0;34m(sequence, **keywords)\u001b[0m\n\u001b[1;32m    112\u001b[0m \u001b[38;5;66;03m# check for pre-tokenized strings\u001b[39;00m\n\u001b[1;32m    113\u001b[0m \u001b[38;5;28;01mif\u001b[39;00m \u001b[38;5;124m'\u001b[39m\u001b[38;5;124m \u001b[39m\u001b[38;5;124m'\u001b[39m \u001b[38;5;129;01min\u001b[39;00m sequence:\n\u001b[0;32m--> 114\u001b[0m     \u001b[38;5;28;01mraise\u001b[39;00m \u001b[38;5;167;01mValueError\u001b[39;00m(\u001b[38;5;124m\"\u001b[39m\u001b[38;5;124mInput must not contain spaces\u001b[39m\u001b[38;5;124m\"\u001b[39m)\n\u001b[1;32m    116\u001b[0m \u001b[38;5;66;03m# create the list for the output\u001b[39;00m\n\u001b[1;32m    117\u001b[0m out \u001b[38;5;241m=\u001b[39m []\n",
      "\u001b[0;31mValueError\u001b[0m: Input must not contain spaces"
     ]
    }
   ],
   "source": [
    "## Use example of the tokenisation by `ipa2tokens()` for the string `\"apfəl\"`\n",
    "print(seq1, \"\\t->\\t\", '\\t'.join(ipa2tokens(seq1)))\n",
    "print(seq2, \"  \\t->\\t\", '\\t'.join(ipa2tokens(seq2)))\n"
   ]
  },
  {
   "cell_type": "code",
   "execution_count": 85,
   "metadata": {},
   "outputs": [
    {
     "name": "stdout",
     "output_type": "stream",
     "text": [
      "apfəl   \t->\t a\tpf\tə\tl\n"
     ]
    }
   ],
   "source": [
    "## Use example of the tokenisation by `ipa2tokens()` for the string `\"apfəl\"`\n",
    "print(seq3, \"  \\t->\\t\", '\\t'.join(ipa2tokens(seq3, semi_diacritics=\"f\")))"
   ]
  },
  {
   "cell_type": "code",
   "execution_count": 86,
   "metadata": {},
   "outputs": [
    {
     "name": "stdout",
     "output_type": "stream",
     "text": [
      "θiɣatɛra  ->  TVKVTVRV (dolgo)\n",
      "θiɣatɛra  ->  DIGATERA (sca)\n",
      "θiɣatɛra  ->  8ixatEra (asjp)\n",
      "θiɣatɛra  ->  37371757 (art)\n"
     ]
    }
   ],
   "source": [
    "word = \"θiɣatɛra\"\n",
    "segs = ipa2tokens(word)\n",
    "\n",
    "# iterate over sound class models and write them in converted version \n",
    "for m in ['dolgo', 'sca', 'asjp', 'art']:\n",
    "    print(word, ' -> ', ''.join(tokens2class(segs, m)), '({0})'.format(m))"
   ]
  },
  {
   "cell_type": "code",
   "execution_count": 93,
   "metadata": {},
   "outputs": [
    {
     "data": {
      "text/plain": [
       "{'NorthMarquesan_38': [\"va'u\"],\n",
       " 'Hawaiian_52': ['walu'],\n",
       " 'Rarotongan_58': ['varu'],\n",
       " 'Maori_85': ['waru'],\n",
       " 'Samoan_118': ['valu'],\n",
       " 'Austral_128': ['vaʔu'],\n",
       " 'TongaTongaIslands_136': ['valu'],\n",
       " 'Pukapuka_152': ['valu'],\n",
       " 'Tikopia_155': ['varu'],\n",
       " 'FutunaAniwa_156': ['varu'],\n",
       " 'Tahitian_173': [\"va'u\"],\n",
       " 'RennellBellona_206': ['baŋgu'],\n",
       " 'EastFutuna_210': ['valu'],\n",
       " 'Kapingamarangi_217': ['walu'],\n",
       " 'Penrhyn_235': ['varu'],\n",
       " 'Luangiua_238': ['valu'],\n",
       " 'Mangareva_239': ['varu'],\n",
       " 'Sikaiana_243': ['valu'],\n",
       " 'Tuamotuan_246': ['varu'],\n",
       " 'Niuean_247': ['valu'],\n",
       " 'Anuta_253': ['varu'],\n",
       " 'Wallisian_258': ['valu'],\n",
       " 'Rapanui_264': [\"va'u\"],\n",
       " 'VaeakauTaumako_375': ['valu'],\n",
       " 'Tuvalu_753': ['valu'],\n",
       " 'Emae_1030': ['βaru'],\n",
       " 'Mele-Fila_1163': ['eβaru'],\n",
       " 'Nukuria_1212': ['varu'],\n",
       " 'Austral_1213': ['vaGu'],\n",
       " 'Polynesian_658': [],\n",
       " 'RakahangaManihiki_589': []}"
      ]
     },
     "execution_count": 93,
     "metadata": {},
     "output_type": "execute_result"
    }
   ],
   "source": [
    "eight = wl.get_dict(row='Eight', entry='value')\n",
    "eight"
   ]
  },
  {
   "cell_type": "code",
   "execution_count": 92,
   "metadata": {},
   "outputs": [
    {
     "name": "stdout",
     "output_type": "stream",
     "text": [
      "Emae_1030              \t βaru\n",
      "RennellBellona_206     \t baŋgu\n",
      "Tuvalu_753             \t valu\n",
      "Sikaiana_243           \t valu\n",
      "Penrhyn_235            \t varu\n",
      "Kapingamarangi_217     \t walu\n"
     ]
    }
   ],
   "source": [
    "for taxon in ['Emae_1030', 'RennellBellona_206', 'Tuvalu_753', 'Sikaiana_243', 'Penrhyn_235',  'Kapingamarangi_217']:\n",
    "    print('{0:20}'.format(taxon), '  \\t', ', '.join(eight[taxon]))"
   ]
  },
  {
   "cell_type": "code",
   "execution_count": null,
   "metadata": {},
   "outputs": [],
   "source": []
  }
 ],
 "metadata": {
  "kernelspec": {
   "display_name": "myenv",
   "language": "python",
   "name": "python3"
  },
  "language_info": {
   "codemirror_mode": {
    "name": "ipython",
    "version": 3
   },
   "file_extension": ".py",
   "mimetype": "text/x-python",
   "name": "python",
   "nbconvert_exporter": "python",
   "pygments_lexer": "ipython3",
   "version": "3.9.6"
  }
 },
 "nbformat": 4,
 "nbformat_minor": 2
}
